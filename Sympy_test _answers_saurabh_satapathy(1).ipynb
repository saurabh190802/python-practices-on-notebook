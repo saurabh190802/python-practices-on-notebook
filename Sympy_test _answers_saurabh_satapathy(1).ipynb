{
 "cells": [
  {
   "cell_type": "markdown",
   "metadata": {
    "id": "JzIQHV3UXR_p"
   },
   "source": [
    "*`italicized text`*# SymPy Test - 1\n"
   ]
  },
  {
   "cell_type": "code",
   "execution_count": 51,
   "metadata": {
    "id": "N3oKiPgnXR_t"
   },
   "outputs": [],
   "source": [
    "import sympy\n",
    "from sympy import  * \n",
    "from sympy.abc import * "
   ]
  },
  {
   "cell_type": "markdown",
   "metadata": {
    "id": "D8LwHGReXR_9"
   },
   "source": [
    "## Solve the Following Quadratic Equation_"
   ]
  },
  {
   "cell_type": "code",
   "execution_count": null,
   "metadata": {
    "id": "j15gkRY2XR_-",
    "outputId": "426e9a33-1bad-437a-98b5-7cb26a49aae3"
   },
   "outputs": [
    {
     "data": {
      "text/latex": [
       "$\\displaystyle x^{2} + 2 \\sqrt{2} x - 6 = 0$"
      ],
      "text/plain": [
       "Eq(x**2 + 2*sqrt(2)*x - 6, 0)"
      ]
     },
     "execution_count": 2,
     "metadata": {
      "tags": []
     },
     "output_type": "execute_result"
    }
   ],
   "source": []
  },
  {
   "cell_type": "code",
   "execution_count": 3,
   "metadata": {},
   "outputs": [
    {
     "data": {
      "text/plain": [
       "[{x: -3*sqrt(2)}, {x: sqrt(2)}]"
      ]
     },
     "execution_count": 3,
     "metadata": {},
     "output_type": "execute_result"
    }
   ],
   "source": [
    "eq= x**2 + 2*sqrt(2)*x-6\n",
    "eq\n",
    "roots= solve(eq, dict=True)\n",
    "roots"
   ]
  },
  {
   "cell_type": "code",
   "execution_count": null,
   "metadata": {
    "id": "DxcX5uHNXSAH",
    "outputId": "819d74d5-6501-41b9-a225-a75545a49c54"
   },
   "outputs": [
    {
     "data": {
      "text/latex": [
       "$\\displaystyle 3 x^{2} + 5 \\sqrt{5} x - 10 = 0$"
      ],
      "text/plain": [
       "Eq(3*x**2 + 5*sqrt(5)*x - 10, 0)"
      ]
     },
     "execution_count": 3,
     "metadata": {
      "tags": []
     },
     "output_type": "execute_result"
    }
   ],
   "source": []
  },
  {
   "cell_type": "code",
   "execution_count": 5,
   "metadata": {},
   "outputs": [
    {
     "data": {
      "text/plain": [
       "[{x: -2*sqrt(5)}, {x: sqrt(5)/3}]"
      ]
     },
     "execution_count": 5,
     "metadata": {},
     "output_type": "execute_result"
    }
   ],
   "source": [
    "eq1=3*x**2+5*sqrt(5)*x-10\n",
    "roots1= solve(eq1, dict=True)\n",
    "roots1\n"
   ]
  },
  {
   "cell_type": "code",
   "execution_count": null,
   "metadata": {
    "id": "ki0JcCVnXSAO",
    "outputId": "dee5876b-04a6-4d9f-abe7-b39131e9cd35"
   },
   "outputs": [
    {
     "data": {
      "text/latex": [
       "$\\displaystyle \\frac{x}{x + 1} + \\frac{x + 1}{x} = \\frac{34}{15}$"
      ],
      "text/plain": [
       "Eq(x/(x + 1) + (x + 1)/x, 34/15)"
      ]
     },
     "execution_count": 6,
     "metadata": {
      "tags": []
     },
     "output_type": "execute_result"
    }
   ],
   "source": []
  },
  {
   "cell_type": "code",
   "execution_count": 9,
   "metadata": {},
   "outputs": [
    {
     "data": {
      "text/plain": [
       "[{x: -2.50000000000000}, {x: 1.50000000000000}]"
      ]
     },
     "execution_count": 9,
     "metadata": {},
     "output_type": "execute_result"
    }
   ],
   "source": [
    "eq2=x**2+(x+1)**2-(34/15)*x*(x+1)\n",
    "roots2= solve(eq2, dict=True)\n",
    "roots2"
   ]
  },
  {
   "cell_type": "code",
   "execution_count": null,
   "metadata": {
    "id": "LQqgLEYmXSAW",
    "outputId": "efd44161-073e-4699-fce4-5e1e86ab3d5e"
   },
   "outputs": [
    {
     "data": {
      "text/latex": [
       "$\\displaystyle \\frac{1}{2 - \\frac{1}{2 - \\frac{1}{2 - x}}} = x$"
      ],
      "text/plain": [
       "Eq(1/(2 - 1/(2 - 1/(2 - x))), x)"
      ]
     },
     "execution_count": 7,
     "metadata": {
      "tags": []
     },
     "output_type": "execute_result"
    }
   ],
   "source": []
  },
  {
   "cell_type": "code",
   "execution_count": 10,
   "metadata": {
    "id": "CcOnIfu9XSAo"
   },
   "outputs": [
    {
     "data": {
      "text/plain": [
       "[{x: 3/5 - sqrt(6)*I/5}, {x: 3/5 + sqrt(6)*I/5}]"
      ]
     },
     "execution_count": 10,
     "metadata": {},
     "output_type": "execute_result"
    }
   ],
   "source": [
    "eq3=5*x**2-6*x+3\n",
    "roots3= solve(eq3, dict=True)\n",
    "roots3\n",
    "#if we solve the given expression we will get this"
   ]
  },
  {
   "cell_type": "code",
   "execution_count": null,
   "metadata": {
    "id": "c8HK28n8XSAd",
    "outputId": "fc71bd30-9142-4eb2-8e15-dd29e181cc86"
   },
   "outputs": [
    {
     "data": {
      "text/latex": [
       "$\\displaystyle a^{2} x^{2} - 3 a b x + 2 b^{2} = 0$"
      ],
      "text/plain": [
       "Eq(a**2*x**2 - 3*a*b*x + 2*b**2, 0)"
      ]
     },
     "execution_count": 8,
     "metadata": {
      "tags": []
     },
     "output_type": "execute_result"
    }
   ],
   "source": []
  },
  {
   "cell_type": "code",
   "execution_count": 17,
   "metadata": {},
   "outputs": [
    {
     "data": {
      "text/plain": [
       "[b/a, 2*b/a]"
      ]
     },
     "execution_count": 17,
     "metadata": {},
     "output_type": "execute_result"
    }
   ],
   "source": [
    "eq4=(x**2)*(a**2)-3*x*b*a+2*b**2\n",
    "\n",
    "solve(eq4,x)"
   ]
  },
  {
   "cell_type": "code",
   "execution_count": null,
   "metadata": {},
   "outputs": [],
   "source": []
  },
  {
   "cell_type": "markdown",
   "metadata": {
    "id": "bd6Vu2GRY3DP"
   },
   "source": [
    "**A person has Rs 360 for his expenses. If he extends his tour for 4 days, he has to cut down his daily expenses by Rs 3. \n",
    "Find the original duration of the tour.**"
   ]
  },
  {
   "cell_type": "code",
   "execution_count": 24,
   "metadata": {},
   "outputs": [
    {
     "data": {
      "text/plain": [
       "[-15, 18]"
      ]
     },
     "execution_count": 24,
     "metadata": {},
     "output_type": "execute_result"
    }
   ],
   "source": [
    "equ=x**2-3*x-270\n",
    "solve(equ)\n"
   ]
  },
  {
   "cell_type": "code",
   "execution_count": 26,
   "metadata": {},
   "outputs": [
    {
     "name": "stdout",
     "output_type": "stream",
     "text": [
      "original duration is= 20\n"
     ]
    }
   ],
   "source": [
    "x=18 #day never be negative\n",
    "\n",
    "print(\"original duration is=\",360//x)"
   ]
  },
  {
   "cell_type": "markdown",
   "metadata": {
    "id": "sQ6qTNauYz6h"
   },
   "source": [
    "**The product of two consecutive positive integers is 240. FOrmulate the quadractic equation whose roots are these integers.**"
   ]
  },
  {
   "cell_type": "code",
   "execution_count": 29,
   "metadata": {},
   "outputs": [
    {
     "data": {
      "text/plain": [
       "[-16, 15]"
      ]
     },
     "execution_count": 29,
     "metadata": {},
     "output_type": "execute_result"
    }
   ],
   "source": [
    "equa=x**2+x-240\n",
    "solve(equa)"
   ]
  },
  {
   "cell_type": "code",
   "execution_count": 35,
   "metadata": {},
   "outputs": [
    {
     "name": "stdout",
     "output_type": "stream",
     "text": [
      "two consecutive positive integers are:\n",
      "15,16\n"
     ]
    }
   ],
   "source": [
    "#positive integer given so,\n",
    "x=15\n",
    "y=x+1\n",
    "print(\"two consecutive positive integers are:\" )\n",
    "print(x, y ,sep=\",\")"
   ]
  },
  {
   "cell_type": "markdown",
   "metadata": {
    "id": "4OqaZ8LhYe83"
   },
   "source": [
    "**Sum of the areas of the two sides of squares is 468 m^2. If the difference of their prerimeters is 24m, formulate the quadratic equation to find the \n",
    "sides of the two squares**"
   ]
  },
  {
   "cell_type": "code",
   "execution_count": 38,
   "metadata": {},
   "outputs": [
    {
     "data": {
      "text/plain": [
       "[-12, 18]"
      ]
     },
     "execution_count": 38,
     "metadata": {},
     "output_type": "execute_result"
    }
   ],
   "source": [
    "equat=x**2-6*x-216\n",
    "solve(equat)"
   ]
  },
  {
   "cell_type": "code",
   "execution_count": 44,
   "metadata": {},
   "outputs": [
    {
     "name": "stdout",
     "output_type": "stream",
     "text": [
      "side of first square=18m\n",
      "12.0\n",
      "side of second square=12m\n"
     ]
    }
   ],
   "source": [
    "#side of a square cant be negative so \n",
    "print(\"side of first square=18m\")\n",
    "y=(4*18-24)/4\n",
    "print(y)\n",
    "#y==12\n",
    "print(\"side of second square=12m\")"
   ]
  },
  {
   "cell_type": "markdown",
   "metadata": {
    "id": "rgdIpOWtZHXH"
   },
   "source": [
    "# Trigonometric Equation & Identities "
   ]
  },
  {
   "cell_type": "code",
   "execution_count": null,
   "metadata": {
    "colab": {
     "base_uri": "https://localhost:8080/",
     "height": 34
    },
    "id": "DCw2ZFSKZLTh",
    "outputId": "4d973520-7765-4d66-ca14-9ca8486338ab"
   },
   "outputs": [
    {
     "data": {
      "text/plain": [
       "Eq(sin(A)**2*cos(B)**2 - sin(B)**2*cos(A)**2, sin(A)**2 - cos(A)**2)"
      ]
     },
     "execution_count": 3,
     "metadata": {
      "tags": []
     },
     "output_type": "execute_result"
    }
   ],
   "source": [
    "Eq(sin(A)**2*cos(B)**2 - cos(A)**2* sin(B)**2, sin(A)**2 - cos(A)**2)"
   ]
  },
  {
   "cell_type": "code",
   "execution_count": 59,
   "metadata": {
    "id": "U0e0OiAeb7jk"
   },
   "outputs": [
    {
     "data": {
      "text/latex": [
       "$\\displaystyle \\left( \\sin^{2}{\\left(A \\right)} \\cos^{2}{\\left(B \\right)} - \\sin^{2}{\\left(B \\right)} \\cos^{2}{\\left(A \\right)}, \\  \\sin^{2}{\\left(A \\right)} - \\cos^{2}{\\left(A \\right)}\\right)$"
      ],
      "text/plain": [
       "(sin(A)**2*cos(B)**2 - sin(B)**2*cos(A)**2, sin(A)**2 - cos(A)**2)"
      ]
     },
     "execution_count": 59,
     "metadata": {},
     "output_type": "execute_result"
    }
   ],
   "source": [
    "Eq=sin(A)**2*cos(B)**2 - cos(A)**2* sin(B)**2, sin(A)**2 - cos(A)**2\n",
    "sympy.simplify(Eq)"
   ]
  },
  {
   "cell_type": "code",
   "execution_count": null,
   "metadata": {},
   "outputs": [],
   "source": []
  }
 ],
 "metadata": {
  "accelerator": "TPU",
  "colab": {
   "collapsed_sections": [],
   "name": "Sympy test.ipynb",
   "provenance": []
  },
  "kernelspec": {
   "display_name": "Python 3",
   "language": "python",
   "name": "python3"
  },
  "language_info": {
   "codemirror_mode": {
    "name": "ipython",
    "version": 3
   },
   "file_extension": ".py",
   "mimetype": "text/x-python",
   "name": "python",
   "nbconvert_exporter": "python",
   "pygments_lexer": "ipython3",
   "version": "3.8.8"
  }
 },
 "nbformat": 4,
 "nbformat_minor": 1
}
