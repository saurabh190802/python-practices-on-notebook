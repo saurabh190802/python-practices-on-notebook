{
 "cells": [
  {
   "cell_type": "markdown",
   "metadata": {
    "id": "f3YV9jOkax0z"
   },
   "source": [
    "__Multiply a 5x3 matrix by a 3x2 matrix (real matrix product)__"
   ]
  },
  {
   "cell_type": "code",
   "execution_count": 1,
   "metadata": {
    "id": "Vsa0MPhCax01"
   },
   "outputs": [
    {
     "name": "stdout",
     "output_type": "stream",
     "text": [
      "First array:\n",
      "[[0.07600632 0.11108492 0.58548937]\n",
      " [0.92116653 0.74949152 0.35486738]\n",
      " [0.77337418 0.82766767 0.90112083]\n",
      " [0.08177268 0.00747247 0.1870243 ]\n",
      " [0.31791445 0.71721353 0.12868757]]\n",
      "Second array:\n",
      "[[0.43939653 0.27938433]\n",
      " [0.33052491 0.12632233]\n",
      " [0.9349882  0.68609147]]\n",
      "Dot product of two arrays:\n",
      "[[0.61753891 0.43696675]\n",
      " [0.98427981 0.5955085 ]\n",
      " [1.45592006 0.93887286]\n",
      " [0.21326599 0.15210573]\n",
      " [0.4970688  0.26771185]]\n"
     ]
    }
   ],
   "source": [
    "import numpy as np\n",
    "x = np.random.random((5,3))\n",
    "print(\"First array:\")\n",
    "print(x)\n",
    "y = np.random.random((3,2))\n",
    "print(\"Second array:\")\n",
    "print(y)\n",
    "z = np.dot(x, y)\n",
    "print(\"Dot product of two arrays:\")\n",
    "print(z)"
   ]
  },
  {
   "cell_type": "markdown",
   "metadata": {
    "id": "2704nyY8ax06"
   },
   "source": [
    "__Given a 1D array, negate all elements which are between 3 and 8, in place__\n",
    "\n",
    "x = np.array([1, 2, 3,<code>4, 5, 6, 7, 8</code>, 9, 10])"
   ]
  },
  {
   "cell_type": "code",
   "execution_count": 2,
   "metadata": {
    "id": "UjfQyf8Dax07"
   },
   "outputs": [
    {
     "name": "stdout",
     "output_type": "stream",
     "text": [
      "[ 1  2  3 -4 -5 -6 -7 -8 -9 10]\n"
     ]
    }
   ],
   "source": [
    "import numpy as np\n",
    "x = np.array([1, 2, 3,4, 5, 6, 7, 8, 9, 10])\n",
    "\n",
    "\n",
    "x[3:9] = np.multiply(x[3:9],-1)\n",
    "\n",
    "print(x)"
   ]
  },
  {
   "cell_type": "markdown",
   "metadata": {
    "id": "dFMTSlINax1A"
   },
   "source": [
    "__What are the result of the following expressions?__"
   ]
  },
  {
   "cell_type": "raw",
   "metadata": {
    "id": "QTPEXtQPax1A"
   },
   "source": [
    "np.array(0) // np.array(0)\n",
    "np.array(0) // np.array(0.) \n",
    "np.array(0) / np.array(0) \n",
    "np.array(0) / np.array(0.)"
   ]
  },
  {
   "cell_type": "code",
   "execution_count": 4,
   "metadata": {
    "id": "9f_Hz1uHax1B"
   },
   "outputs": [
    {
     "name": "stdout",
     "output_type": "stream",
     "text": [
      "0\n",
      "nan\n",
      "nan\n",
      "nan\n"
     ]
    },
    {
     "name": "stderr",
     "output_type": "stream",
     "text": [
      "<ipython-input-4-4f3a0242f6ff>:1: RuntimeWarning: divide by zero encountered in floor_divide\n",
      "  print(np.array(0) // np.array(0))\n",
      "<ipython-input-4-4f3a0242f6ff>:2: RuntimeWarning: invalid value encountered in floor_divide\n",
      "  print(np.array(0) // np.array(0.))\n",
      "<ipython-input-4-4f3a0242f6ff>:3: RuntimeWarning: invalid value encountered in true_divide\n",
      "  print(np.array(0) / np.array(0))\n",
      "<ipython-input-4-4f3a0242f6ff>:4: RuntimeWarning: invalid value encountered in true_divide\n",
      "  print(np.array(0) / np.array(0.))\n"
     ]
    }
   ],
   "source": [
    "print(np.array(0) // np.array(0))\n",
    "print(np.array(0) // np.array(0.)) \n",
    "print(np.array(0) / np.array(0))\n",
    "print(np.array(0) / np.array(0.))"
   ]
  },
  {
   "cell_type": "markdown",
   "metadata": {
    "id": "clfvlhL5ax1F"
   },
   "source": [
    "__Create a 2d array with 1 on the border and 0 inside__"
   ]
  },
  {
   "cell_type": "code",
   "execution_count": null,
   "metadata": {
    "id": "EKShBtU-ax1G"
   },
   "outputs": [],
   "source": [
    "[1, 1, 1, 1, 1, 1\n",
    " 1, 0, 0, 0, 0, 1\n",
    " 1, 1, 1, 1, 1, 1]"
   ]
  },
  {
   "cell_type": "code",
   "execution_count": 6,
   "metadata": {},
   "outputs": [
    {
     "name": "stdout",
     "output_type": "stream",
     "text": [
      "1 on the border and 0 inside in the array\n",
      "[[1. 1. 1. 1. 1.]\n",
      " [1. 0. 0. 0. 1.]\n",
      " [1. 0. 0. 0. 1.]\n",
      " [1. 0. 0. 0. 1.]\n",
      " [1. 1. 1. 1. 1.]]\n"
     ]
    }
   ],
   "source": [
    "import numpy as np\n",
    "x = np.ones((5,5))\n",
    "\n",
    "print(\"1 on the border and 0 inside in the array\")\n",
    "x[1:-1,1:-1] = 0\n",
    "print(x)"
   ]
  },
  {
   "cell_type": "markdown",
   "metadata": {
    "id": "bCwrQzcXax1K"
   },
   "source": [
    "__Create a random array of size 30 and find the mean value__"
   ]
  },
  {
   "cell_type": "code",
   "execution_count": 7,
   "metadata": {
    "id": "P7U2Hd74ax1L"
   },
   "outputs": [
    {
     "name": "stdout",
     "output_type": "stream",
     "text": [
      "Average of the array elements:\n",
      "0.05765920300400577\n"
     ]
    }
   ],
   "source": [
    "import numpy as np\n",
    "x = np.random.randn(30)\n",
    "print(\"Average of the array elements:\")\n",
    "mean = x.mean()\n",
    "print(mean)"
   ]
  },
  {
   "cell_type": "markdown",
   "metadata": {
    "id": "qPMSLaIVax1O"
   },
   "source": [
    "__Create a 10x10 array with random values and find the minimum and maximum values__"
   ]
  },
  {
   "cell_type": "code",
   "execution_count": 8,
   "metadata": {
    "id": "hjdJqct3ax1P"
   },
   "outputs": [
    {
     "name": "stdout",
     "output_type": "stream",
     "text": [
      "Original Array:\n",
      "[[0.91160083 0.89951114 0.32148046 0.94320336 0.57943455 0.70583419\n",
      "  0.3275281  0.35025591 0.86011722 0.26333729]\n",
      " [0.07149942 0.34691958 0.70458819 0.49917333 0.28688387 0.14640636\n",
      "  0.25250267 0.53579949 0.83799133 0.40528635]\n",
      " [0.46782749 0.16276884 0.53172832 0.73602058 0.39941869 0.89054211\n",
      "  0.97154966 0.35428993 0.50842699 0.20852547]\n",
      " [0.17261846 0.90074181 0.33855858 0.25106801 0.18436768 0.17373476\n",
      "  0.89413101 0.01133282 0.34809171 0.7127191 ]\n",
      " [0.63810664 0.78767338 0.68989492 0.94271671 0.42149014 0.48869637\n",
      "  0.41087083 0.4409224  0.45962399 0.71786191]\n",
      " [0.47722654 0.38209753 0.49617591 0.3074537  0.46477435 0.78415045\n",
      "  0.17079126 0.98156222 0.1738382  0.91032116]\n",
      " [0.66006657 0.26793911 0.50490015 0.19846621 0.97098904 0.65872809\n",
      "  0.14419619 0.26143449 0.90225554 0.54580014]\n",
      " [0.14409267 0.23658144 0.26311752 0.83470549 0.24100222 0.00738518\n",
      "  0.2305804  0.12957826 0.52529339 0.66643245]\n",
      " [0.5970479  0.96197188 0.92882746 0.0626552  0.2700794  0.37349657\n",
      "  0.41574213 0.04279773 0.07632755 0.31495919]\n",
      " [0.6146419  0.06737138 0.94559549 0.25884196 0.10680339 0.63713246\n",
      "  0.75409644 0.14692249 0.85888032 0.83818385]]\n",
      "Minimum and Maximum Values:\n",
      "0.007385178599228048 0.9815622184596063\n"
     ]
    }
   ],
   "source": [
    "import numpy as np\n",
    "x = np.random.random((10,10))\n",
    "print(\"Original Array:\")\n",
    "print(x) \n",
    "xmin, xmax = x.min(), x.max()\n",
    "print(\"Minimum and Maximum Values:\")\n",
    "print(xmin, xmax)"
   ]
  },
  {
   "cell_type": "markdown",
   "metadata": {
    "id": "iT5kpKHDax1T"
   },
   "source": [
    "__Create a 3x3x3 array with random values__"
   ]
  },
  {
   "cell_type": "code",
   "execution_count": 9,
   "metadata": {
    "id": "wxdzaxsSax1U"
   },
   "outputs": [
    {
     "name": "stdout",
     "output_type": "stream",
     "text": [
      "[[[0.76119376 0.11612085 0.78795551]\n",
      "  [0.37557652 0.84656421 0.7491595 ]\n",
      "  [0.48775872 0.34273808 0.88548252]]\n",
      "\n",
      " [[0.83605494 0.41822026 0.54101538]\n",
      "  [0.87211761 0.90272017 0.08039804]\n",
      "  [0.86916294 0.25274198 0.67320932]]\n",
      "\n",
      " [[0.50131607 0.6872364  0.49749442]\n",
      "  [0.99211125 0.49633822 0.35688592]\n",
      "  [0.58698184 0.37562558 0.12840008]]]\n"
     ]
    }
   ],
   "source": [
    "import numpy as np\n",
    "x = np.random.random((3,3,3))\n",
    "print(x)"
   ]
  },
  {
   "cell_type": "markdown",
   "metadata": {
    "id": "Mws6XDuLax1c"
   },
   "source": [
    "__Create a 3x3 identity matrix___"
   ]
  },
  {
   "cell_type": "code",
   "execution_count": 11,
   "metadata": {
    "id": "DxoBsnCtax1d"
   },
   "outputs": [
    {
     "name": "stdout",
     "output_type": "stream",
     "text": [
      "3x3 matrix:\n",
      "[[1. 0. 0.]\n",
      " [0. 1. 0.]\n",
      " [0. 0. 1.]]\n"
     ]
    }
   ],
   "source": [
    "import numpy as np\n",
    "arr33=np.identity(3)\n",
    "print('3x3 matrix:')\n",
    "print(arr33)"
   ]
  },
  {
   "cell_type": "markdown",
   "metadata": {
    "id": "vDg9rpW5ax1i"
   },
   "source": [
    "__Find indices of non­zero elements from [1,2,0,0,4,0]__"
   ]
  },
  {
   "cell_type": "code",
   "execution_count": 13,
   "metadata": {
    "id": "972m0dE7ax1i"
   },
   "outputs": [
    {
     "name": "stdout",
     "output_type": "stream",
     "text": [
      "(array([0, 1, 4], dtype=int64),)\n"
     ]
    }
   ],
   "source": [
    "x = np.array([1,2,0,0,4,0])\n",
    "print(np.nonzero(x))"
   ]
  },
  {
   "cell_type": "markdown",
   "metadata": {
    "id": "tlQun0M2ax1n"
   },
   "source": [
    "__Reverse a Array__"
   ]
  },
  {
   "cell_type": "code",
   "execution_count": 14,
   "metadata": {
    "id": "pVFUxwBEax1o"
   },
   "outputs": [
    {
     "name": "stdout",
     "output_type": "stream",
     "text": [
      "Original array:\n",
      "[12 13 14 15 16 17 18 19 20 21 22 23 24 25 26 27 28 29 30 31 32 33 34 35\n",
      " 36 37]\n",
      "Reverse array:\n",
      "[37 36 35 34 33 32 31 30 29 28 27 26 25 24 23 22 21 20 19 18 17 16 15 14\n",
      " 13 12]\n"
     ]
    }
   ],
   "source": [
    "\n",
    "import numpy as np\n",
    "x = np.arange(12, 38)\n",
    "print(\"Original array:\")\n",
    "print(x)\n",
    "print(\"Reverse array:\")\n",
    "x = x[::-1]\n",
    "print(x)"
   ]
  },
  {
   "cell_type": "markdown",
   "metadata": {
    "id": "YLHBHn4Zax1u"
   },
   "source": [
    "__Create a null array of size 10 but the fifth value which is 1__"
   ]
  },
  {
   "cell_type": "code",
   "execution_count": 15,
   "metadata": {
    "id": "YVFsQ5xHax1v"
   },
   "outputs": [
    {
     "name": "stdout",
     "output_type": "stream",
     "text": [
      "[0. 0. 0. 0. 1. 0. 0. 0. 0. 0.]\n"
     ]
    }
   ],
   "source": [
    "z=np.zeros(10)\n",
    "z[4]=1\n",
    "print(z)"
   ]
  },
  {
   "cell_type": "markdown",
   "metadata": {
    "id": "JQXNo7crax10"
   },
   "source": [
    "__How to get the documentation of the numpy add function from the command line?__"
   ]
  },
  {
   "cell_type": "code",
   "execution_count": 17,
   "metadata": {
    "id": "Ca0bd8Ouax10"
   },
   "outputs": [
    {
     "name": "stdout",
     "output_type": "stream",
     "text": [
      "add(x1, x2, /, out=None, *, where=True, casting='same_kind', order='K', dtype=None, subok=True[, signature, extobj])\n",
      "\n",
      "Add arguments element-wise.\n",
      "\n",
      "Parameters\n",
      "----------\n",
      "x1, x2 : array_like\n",
      "    The arrays to be added.\n",
      "    If ``x1.shape != x2.shape``, they must be broadcastable to a common\n",
      "    shape (which becomes the shape of the output).\n",
      "out : ndarray, None, or tuple of ndarray and None, optional\n",
      "    A location into which the result is stored. If provided, it must have\n",
      "    a shape that the inputs broadcast to. If not provided or None,\n",
      "    a freshly-allocated array is returned. A tuple (possible only as a\n",
      "    keyword argument) must have length equal to the number of outputs.\n",
      "where : array_like, optional\n",
      "    This condition is broadcast over the input. At locations where the\n",
      "    condition is True, the `out` array will be set to the ufunc result.\n",
      "    Elsewhere, the `out` array will retain its original value.\n",
      "    Note that if an uninitialized `out` array is created via the default\n",
      "    ``out=None``, locations within it where the condition is False will\n",
      "    remain uninitialized.\n",
      "**kwargs\n",
      "    For other keyword-only arguments, see the\n",
      "    :ref:`ufunc docs <ufuncs.kwargs>`.\n",
      "\n",
      "Returns\n",
      "-------\n",
      "add : ndarray or scalar\n",
      "    The sum of `x1` and `x2`, element-wise.\n",
      "    This is a scalar if both `x1` and `x2` are scalars.\n",
      "\n",
      "Notes\n",
      "-----\n",
      "Equivalent to `x1` + `x2` in terms of array broadcasting.\n",
      "\n",
      "Examples\n",
      "--------\n",
      ">>> np.add(1.0, 4.0)\n",
      "5.0\n",
      ">>> x1 = np.arange(9.0).reshape((3, 3))\n",
      ">>> x2 = np.arange(3.0)\n",
      ">>> np.add(x1, x2)\n",
      "array([[  0.,   2.,   4.],\n",
      "       [  3.,   5.,   7.],\n",
      "       [  6.,   8.,  10.]])\n",
      "\n",
      "The ``+`` operator can be used as a shorthand for ``np.add`` on ndarrays.\n",
      "\n",
      ">>> x1 = np.arange(9.0).reshape((3, 3))\n",
      ">>> x2 = np.arange(3.0)\n",
      ">>> x1 + x2\n",
      "array([[ 0.,  2.,  4.],\n",
      "       [ 3.,  5.,  7.],\n",
      "       [ 6.,  8., 10.]])\n",
      "None\n"
     ]
    }
   ],
   "source": [
    "import numpy as np\n",
    "print(np.info(np.add))\n"
   ]
  },
  {
   "cell_type": "markdown",
   "metadata": {
    "id": "cVyozcW-ax2A"
   },
   "source": [
    "__Print the numpy version and the configuration__"
   ]
  },
  {
   "cell_type": "code",
   "execution_count": 18,
   "metadata": {
    "id": "Tzb_oK12ax2B"
   },
   "outputs": [
    {
     "name": "stdout",
     "output_type": "stream",
     "text": [
      "1.20.1\n",
      "blas_mkl_info:\n",
      "    libraries = ['mkl_rt']\n",
      "    library_dirs = ['E:/anaconda\\\\Library\\\\lib']\n",
      "    define_macros = [('SCIPY_MKL_H', None), ('HAVE_CBLAS', None)]\n",
      "    include_dirs = ['E:/anaconda\\\\Library\\\\include']\n",
      "blas_opt_info:\n",
      "    libraries = ['mkl_rt']\n",
      "    library_dirs = ['E:/anaconda\\\\Library\\\\lib']\n",
      "    define_macros = [('SCIPY_MKL_H', None), ('HAVE_CBLAS', None)]\n",
      "    include_dirs = ['E:/anaconda\\\\Library\\\\include']\n",
      "lapack_mkl_info:\n",
      "    libraries = ['mkl_rt']\n",
      "    library_dirs = ['E:/anaconda\\\\Library\\\\lib']\n",
      "    define_macros = [('SCIPY_MKL_H', None), ('HAVE_CBLAS', None)]\n",
      "    include_dirs = ['E:/anaconda\\\\Library\\\\include']\n",
      "lapack_opt_info:\n",
      "    libraries = ['mkl_rt']\n",
      "    library_dirs = ['E:/anaconda\\\\Library\\\\lib']\n",
      "    define_macros = [('SCIPY_MKL_H', None), ('HAVE_CBLAS', None)]\n",
      "    include_dirs = ['E:/anaconda\\\\Library\\\\include']\n",
      "None\n"
     ]
    }
   ],
   "source": [
    "import numpy as np\n",
    "print(np.__version__)\n",
    "print(np.show_config())"
   ]
  },
  {
   "cell_type": "markdown",
   "metadata": {
    "id": "8NcoJ7W0ax2G"
   },
   "source": [
    "__Create a array of size 10 with values ranging from 0 to 1, both excluded__"
   ]
  },
  {
   "cell_type": "code",
   "execution_count": 19,
   "metadata": {
    "id": "LlwrTadGax2G"
   },
   "outputs": [
    {
     "name": "stdout",
     "output_type": "stream",
     "text": [
      "[0.09090909 0.18181818 0.27272727 0.36363636 0.45454545 0.54545455\n",
      " 0.63636364 0.72727273 0.81818182 0.90909091]\n"
     ]
    }
   ],
   "source": [
    "import numpy as np\n",
    "x = np.linspace(0,1,12,endpoint=True)[1:-1]\n",
    "print(x)"
   ]
  },
  {
   "cell_type": "markdown",
   "metadata": {
    "id": "HIBnpHsoax2N"
   },
   "source": [
    "__Consider two random array A anb B, check if they are equal__"
   ]
  },
  {
   "cell_type": "code",
   "execution_count": 21,
   "metadata": {
    "id": "scir3Rv4ax2O"
   },
   "outputs": [
    {
     "name": "stdout",
     "output_type": "stream",
     "text": [
      "First array:\n",
      "[0 1 0 1 0 0]\n",
      "Second array:\n",
      "[0 1 0 1 1 0]\n",
      "Test above two arrays are equal or not!!!!!!\n",
      "they are not equal\n"
     ]
    }
   ],
   "source": [
    "import numpy as np\n",
    "x = np.random.randint(0,2,6)\n",
    "print(\"First array:\")\n",
    "print(x)\n",
    "y = np.random.randint(0,2,6)\n",
    "print(\"Second array:\")\n",
    "print(y)\n",
    "print(\"Test above two arrays are equal or not!!!!!!\")\n",
    "array_equal = np.allclose(x, y)\n",
    "if(array_equal):\n",
    "    print(\"they are equal\")\n",
    "else:\n",
    "    print(\"they are not equal\")"
   ]
  },
  {
   "cell_type": "markdown",
   "metadata": {
    "id": "FGv1jNcBax2U"
   },
   "source": [
    "__Create a Matrix of random numbers with size 10000 and find the uniqueness of the generated numbers , also find the counts of the repeated numbers__"
   ]
  },
  {
   "cell_type": "code",
   "execution_count": 24,
   "metadata": {
    "id": "PmqD4ALEax2V"
   },
   "outputs": [
    {
     "name": "stdout",
     "output_type": "stream",
     "text": [
      "[[-3.15911737  1.        ]\n",
      " [-2.74974643  1.        ]\n",
      " [-2.70956171  1.        ]\n",
      " ...\n",
      " [ 3.00585168  1.        ]\n",
      " [ 3.07246574  1.        ]\n",
      " [ 3.21409771  1.        ]]\n"
     ]
    }
   ],
   "source": [
    "import numpy as np\n",
    "x = np.random.randn(1000)\n",
    "unique, counts = np.unique(x, return_counts=True)\n",
    "\n",
    "print (np.asarray((unique, counts)).T)"
   ]
  },
  {
   "cell_type": "markdown",
   "metadata": {
    "id": "8r8MXtmZax2a"
   },
   "source": [
    "__Create a vector of size 10 ranging from -1 to 1 and find the sine, cosine, sqrt, log, std of that vector__"
   ]
  },
  {
   "cell_type": "code",
   "execution_count": 36,
   "metadata": {
    "id": "jFQHIFowax2a"
   },
   "outputs": [
    {
     "name": "stdout",
     "output_type": "stream",
     "text": [
      "[-0.81818182 -0.63636364 -0.45454545 -0.27272727 -0.09090909  0.09090909\n",
      "  0.27272727  0.45454545  0.63636364]\n",
      "[-0.72990422 -0.59427479 -0.43905397 -0.26935891 -0.09078392  0.09078392\n",
      "  0.26935891  0.43905397  0.59427479]\n",
      "[0.68354943 0.80426207 0.89846069 0.96303986 0.99587061 0.99587061\n",
      " 0.96303986 0.89846069 0.80426207]\n",
      "[       nan        nan        nan        nan        nan 0.30151134\n",
      " 0.52223297 0.67419986 0.79772404]\n",
      "[        nan         nan         nan         nan         nan -2.39789527\n",
      " -1.29928298 -0.78845736 -0.45198512]\n"
     ]
    },
    {
     "name": "stderr",
     "output_type": "stream",
     "text": [
      "<ipython-input-36-97a22c96df87>:6: RuntimeWarning: invalid value encountered in sqrt\n",
      "  print(np.sqrt(x))\n",
      "<ipython-input-36-97a22c96df87>:7: RuntimeWarning: invalid value encountered in log\n",
      "  print(np.log(x))\n"
     ]
    },
    {
     "ename": "NameError",
     "evalue": "name 'std' is not defined",
     "output_type": "error",
     "traceback": [
      "\u001b[1;31m---------------------------------------------------------------------------\u001b[0m",
      "\u001b[1;31mNameError\u001b[0m                                 Traceback (most recent call last)",
      "\u001b[1;32m<ipython-input-36-97a22c96df87>\u001b[0m in \u001b[0;36m<module>\u001b[1;34m\u001b[0m\n\u001b[0;32m      6\u001b[0m \u001b[0mprint\u001b[0m\u001b[1;33m(\u001b[0m\u001b[0mnp\u001b[0m\u001b[1;33m.\u001b[0m\u001b[0msqrt\u001b[0m\u001b[1;33m(\u001b[0m\u001b[0mx\u001b[0m\u001b[1;33m)\u001b[0m\u001b[1;33m)\u001b[0m\u001b[1;33m\u001b[0m\u001b[1;33m\u001b[0m\u001b[0m\n\u001b[0;32m      7\u001b[0m \u001b[0mprint\u001b[0m\u001b[1;33m(\u001b[0m\u001b[0mnp\u001b[0m\u001b[1;33m.\u001b[0m\u001b[0mlog\u001b[0m\u001b[1;33m(\u001b[0m\u001b[0mx\u001b[0m\u001b[1;33m)\u001b[0m\u001b[1;33m)\u001b[0m\u001b[1;33m\u001b[0m\u001b[1;33m\u001b[0m\u001b[0m\n\u001b[1;32m----> 8\u001b[1;33m \u001b[0mprint\u001b[0m\u001b[1;33m(\u001b[0m\u001b[0mstd\u001b[0m\u001b[1;33m.\u001b[0m\u001b[0mcos\u001b[0m\u001b[1;33m(\u001b[0m\u001b[0mx\u001b[0m\u001b[1;33m)\u001b[0m\u001b[1;33m)\u001b[0m\u001b[1;33m\u001b[0m\u001b[1;33m\u001b[0m\u001b[0m\n\u001b[0m",
      "\u001b[1;31mNameError\u001b[0m: name 'std' is not defined"
     ]
    }
   ],
   "source": [
    "import numpy as np\n",
    "x = np.linspace(-1,1,12,endpoint=True)[1:-2]\n",
    "print(x)\n",
    "print(np.sin(x))\n",
    "print(np.cos(x))\n",
    "print(np.sqrt(x))\n",
    "print(np.log(x))\n",
    "print(std.cos(x))"
   ]
  },
  {
   "cell_type": "markdown",
   "metadata": {},
   "source": [
    "Answered by : \n",
    "<a href=\"https://www.linkedin.com/in/saurabh-satapathy-692a6a1b9\">Saurabh Satapathy</a> (AI ML BATCH)"
   ]
  },
  {
   "cell_type": "code",
   "execution_count": null,
   "metadata": {},
   "outputs": [],
   "source": []
  }
 ],
 "metadata": {
  "colab": {
   "name": "Numpy test - 1 (1).ipynb",
   "provenance": []
  },
  "kernelspec": {
   "display_name": "Python 3",
   "language": "python",
   "name": "python3"
  },
  "language_info": {
   "codemirror_mode": {
    "name": "ipython",
    "version": 3
   },
   "file_extension": ".py",
   "mimetype": "text/x-python",
   "name": "python",
   "nbconvert_exporter": "python",
   "pygments_lexer": "ipython3",
   "version": "3.8.8"
  }
 },
 "nbformat": 4,
 "nbformat_minor": 1
}
