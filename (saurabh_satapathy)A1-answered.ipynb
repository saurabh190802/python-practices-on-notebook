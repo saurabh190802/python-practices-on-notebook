{
 "cells": [
  {
   "cell_type": "markdown",
   "metadata": {},
   "source": [
    "<h2 align=center> You can be a Python Developer !</h2>\n",
    "<h1 align=center>Complete the <code>Assignment 1</code></h1>"
   ]
  },
  {
   "cell_type": "markdown",
   "metadata": {},
   "source": [
    "**Write a Python Program to calculate the length of a string given**\n",
    "\n",
    "string  = 'Goods and Prices'"
   ]
  },
  {
   "cell_type": "code",
   "execution_count": 2,
   "metadata": {},
   "outputs": [
    {
     "name": "stdout",
     "output_type": "stream",
     "text": [
      "16\n"
     ]
    }
   ],
   "source": [
    "string = 'Goods and Prices'\n",
    "print(len(string))"
   ]
  },
  {
   "cell_type": "markdown",
   "metadata": {},
   "source": [
    "**How would you check the Python version you are using in your system ?. Write the code.**"
   ]
  },
  {
   "cell_type": "code",
   "execution_count": 6,
   "metadata": {},
   "outputs": [
    {
     "name": "stdout",
     "output_type": "stream",
     "text": [
      "3.8.8 (default, Apr 13 2021, 15:08:03) [MSC v.1916 64 bit (AMD64)]\n"
     ]
    }
   ],
   "source": [
    "import sys\n",
    "print(sys.version)\n",
    "#in windows terminal we can check by the following command\n",
    "#python -v or python --version\n"
   ]
  },
  {
   "cell_type": "markdown",
   "metadata": {},
   "source": [
    "**Take the first name and last name from the user and get the last name printed first and the first in the last.**"
   ]
  },
  {
   "cell_type": "code",
   "execution_count": 8,
   "metadata": {},
   "outputs": [
    {
     "name": "stdout",
     "output_type": "stream",
     "text": [
      "Enter First Name : saurabh\n",
      "Entert Last Name : satapathy\n",
      "satapathy saurabh\n"
     ]
    }
   ],
   "source": [
    "First_Name = input(\"Enter First Name : \")\n",
    "Last_Name = input(\"Entert Last Name : \")\n",
    "print(Last_Name,First_Name)"
   ]
  },
  {
   "cell_type": "markdown",
   "metadata": {},
   "source": [
    "**Lets Say num = 5 , Now calculate the the vaule of ( num  - cube + num - square + num ) using Operators**"
   ]
  },
  {
   "cell_type": "code",
   "execution_count": 9,
   "metadata": {},
   "outputs": [
    {
     "name": "stdout",
     "output_type": "stream",
     "text": [
      "-135\n"
     ]
    }
   ],
   "source": [
    "num = 5\n",
    "cube = 5*5*5\n",
    "square = 5*5\n",
    "print(num - cube + num - square + num)"
   ]
  },
  {
   "cell_type": "markdown",
   "metadata": {},
   "source": [
    "**Take 3 integer inputs from the user and return the sum of all the numbers to the user.**"
   ]
  },
  {
   "cell_type": "code",
   "execution_count": 11,
   "metadata": {},
   "outputs": [
    {
     "name": "stdout",
     "output_type": "stream",
     "text": [
      "Enter First Integer : 1\n",
      "Enter Second Integer : 2\n",
      "Enter Third Integer : 3\n",
      "6\n"
     ]
    }
   ],
   "source": [
    "x=int(input(\"Enter First Integer : \"))\n",
    "y=int(input(\"Enter Second Integer : \"))\n",
    "z=int(input(\"Enter Third Integer : \"))\n",
    "print(x+y+z)"
   ]
  },
  {
   "cell_type": "markdown",
   "metadata": {},
   "source": [
    "**Suppose x and y are the two variables having some values, and x-y = 5 and so does the x + y . Then Find the value of ( x-square  -   y-square ).**"
   ]
  },
  {
   "cell_type": "code",
   "execution_count": 15,
   "metadata": {},
   "outputs": [
    {
     "name": "stdout",
     "output_type": "stream",
     "text": [
      "x-square - y-square =  25\n"
     ]
    }
   ],
   "source": [
    "#x-y=5\n",
    "#x+y=5\n",
    "# from this we can find value of x & y as \n",
    "x=5\n",
    "y=0\n",
    "\n",
    "print(\"x-square - y-square = \",(x-y)*(x+y))"
   ]
  },
  {
   "cell_type": "markdown",
   "metadata": {},
   "source": [
    "**Convert the following types to Integer Datatype**\n",
    "\n",
    "**Numbers :** 45.3, -0, 2.85, 05.45, 23.6"
   ]
  },
  {
   "cell_type": "code",
   "execution_count": 20,
   "metadata": {},
   "outputs": [
    {
     "name": "stdout",
     "output_type": "stream",
     "text": [
      "45,0,2,5,23\n"
     ]
    }
   ],
   "source": [
    "a=int(45.3)\n",
    "b=int(-0)\n",
    "c=int(2.85)\n",
    "d=int(05.45)\n",
    "e=int(23.6)\n",
    "print(a,b,c,d,e,sep=\",\")"
   ]
  },
  {
   "cell_type": "markdown",
   "metadata": {},
   "source": [
    "**Which of the following is a variable and which of the following in a String ?. Discuss**"
   ]
  },
  {
   "cell_type": "markdown",
   "metadata": {},
   "source": [
    "A variable is a quantity which value may change during the execution of the program and a string is a value representing text.\n",
    "String variables are variables that hold zero or more characters such as letters, numbers, spaces, commas and many more.\n",
    "Numeric operations such as addition or subtraction is not operable on string variables."
   ]
  },
  {
   "cell_type": "markdown",
   "metadata": {},
   "source": [
    "**Name the Data Types learnt till now in Python**"
   ]
  },
  {
   "cell_type": "markdown",
   "metadata": {},
   "source": [
    "int,float,Boolean,complex,range,list"
   ]
  },
  {
   "cell_type": "markdown",
   "metadata": {},
   "source": [
    "**What does the variable contain after the following code runs?**"
   ]
  },
  {
   "cell_type": "raw",
   "metadata": {},
   "source": [
    "variable = 20\n",
    "variable + 1 "
   ]
  },
  {
   "cell_type": "markdown",
   "metadata": {},
   "source": [
    "after the execution of following code the variable contain 20"
   ]
  },
  {
   "cell_type": "code",
   "execution_count": 23,
   "metadata": {},
   "outputs": [
    {
     "name": "stdout",
     "output_type": "stream",
     "text": [
      "20\n"
     ]
    }
   ],
   "source": [
    "variable = 20\n",
    "variable + 1 \n",
    "print(variable)"
   ]
  },
  {
   "cell_type": "markdown",
   "metadata": {},
   "source": [
    "**What will the two expressions will evaluate**?"
   ]
  },
  {
   "cell_type": "raw",
   "metadata": {},
   "source": [
    "'expression_1' + 'expression_2'\n",
    "'expression_1' * 3"
   ]
  },
  {
   "cell_type": "markdown",
   "metadata": {},
   "source": [
    "this will evaluate as \n",
    "   expression_1expression_2 \n",
    "            and expression_1expression_1expression_1"
   ]
  },
  {
   "cell_type": "code",
   "execution_count": 26,
   "metadata": {},
   "outputs": [
    {
     "name": "stdout",
     "output_type": "stream",
     "text": [
      "expression_1expression_2\n",
      "expression_1expression_1expression_1\n"
     ]
    }
   ],
   "source": [
    "print('expression_1' + 'expression_2')\n",
    "print('expression_1' * 3)"
   ]
  },
  {
   "cell_type": "markdown",
   "metadata": {},
   "source": [
    "**Why x is a Valid variable and 100 is invalid ?**"
   ]
  },
  {
   "cell_type": "markdown",
   "metadata": {},
   "source": [
    "Because it's violates variable variable naming rule in python . Variable names can have numbers but not at the begining."
   ]
  },
  {
   "cell_type": "markdown",
   "metadata": {},
   "source": [
    "**Why does the statement caiuse an error ?**"
   ]
  },
  {
   "cell_type": "raw",
   "metadata": {},
   "source": [
    "print('Artificial Intelligence was first coined in the year = ' + 1999)"
   ]
  },
  {
   "cell_type": "markdown",
   "metadata": {},
   "source": [
    "Because it can only concatenate str not \"int\" to str"
   ]
  },
  {
   "cell_type": "markdown",
   "metadata": {},
   "source": [
    "Notebook created by: <a href = \"https://www.linkedin.com/in/sumitkumarshukla/\">Sumit Kumar Shukla</a>"
   ]
  },
  {
   "cell_type": "markdown",
   "metadata": {},
   "source": [
    "Answered by : \n",
    "<a href=\"https://www.linkedin.com/in/saurabh-satapathy-692a6a1b9\">Saurabh Satapathy</a> (AI ML BATCH)"
   ]
  }
 ],
 "metadata": {
  "kernelspec": {
   "display_name": "Python 3",
   "language": "python",
   "name": "python3"
  },
  "language_info": {
   "codemirror_mode": {
    "name": "ipython",
    "version": 3
   },
   "file_extension": ".py",
   "mimetype": "text/x-python",
   "name": "python",
   "nbconvert_exporter": "python",
   "pygments_lexer": "ipython3",
   "version": "3.8.8"
  }
 },
 "nbformat": 4,
 "nbformat_minor": 4
}
